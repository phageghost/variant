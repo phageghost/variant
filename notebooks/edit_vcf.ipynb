{
 "cells": [
  {
   "cell_type": "code",
   "execution_count": null,
   "metadata": {
    "collapsed": true
   },
   "outputs": [],
   "source": [
    "import pandas as pd"
   ]
  },
  {
   "cell_type": "code",
   "execution_count": null,
   "metadata": {
    "collapsed": true
   },
   "outputs": [],
   "source": [
    "VERBOSE = True\n",
    "FP_VCF = '/Users/Kwat/binf/guardiome/g/genomics/data/tester/0.05/variant/0.05.concat.concat.rename_chr_sort.ann_snpeff.ann_clinvar.rename_chr_sort.vcf'"
   ]
  },
  {
   "cell_type": "code",
   "execution_count": null,
   "metadata": {
    "collapsed": true
   },
   "outputs": [],
   "source": [
    "# Read VCF\n",
    "def read_vcf(fp_vcf, verbose=False):\n",
    "    meta_information = []\n",
    "    header_line = None\n",
    "    header = None\n",
    "    vcf_data = None\n",
    "\n",
    "    with open(fp_vcf) as f:\n",
    "        for i, line in enumerate(f):\n",
    "            if line.startswith('##'):\n",
    "                meta_information.append(line.strip())\n",
    "            elif line.startswith('#CHROM'):\n",
    "                header_line = i\n",
    "                print('header starts at line {}\\n'.format(header_line))\n",
    "                header = line.strip()\n",
    "            else:\n",
    "                break\n",
    "    vcf_data = pd.read_csv(FP_VCF, sep='\\t', skiprows=header_line)\n",
    "\n",
    "    if verbose:\n",
    "        print('Meta-information\\n{}\\n'.format(meta_information))\n",
    "        print('header\\n{}\\n'.format(header))\n",
    "        print('VCF\\n{}\\n'.format(vcf_data.head()))\n",
    "    return meta_information, header_line, header, vcf_data\n",
    "\n",
    "meta_information, header_line, header, vcf_data = read_vcf(FP_VCF, verbose=True)"
   ]
  },
  {
   "cell_type": "code",
   "execution_count": null,
   "metadata": {
    "collapsed": true
   },
   "outputs": [],
   "source": [
    "# Add FORMAT and SAMPLE\n",
    "def add_format_sample(vcf_data, sample_id, verbose=False):\n",
    "    meta_information.append('##FORMAT=<ID=GT,Number=1,Type=String,Description=\"Genotype\">')\n",
    "    meta_information.append('##FORMAT=<ID=DP,Number=1,Type=Integer,Description=\"Approximate read depth; some reads may have been filtered\">')\n",
    "    vcf_data['FORMAT'] = 'GT:DP'\n",
    "    vcf_data[SAMPLE_ID] = '1/1:999'\n",
    "    vcf_data['QUAL'] = 999\n",
    "    vcf_data['FILTER'] = 'PASS'\n",
    "\n",
    "    if VERBOSE:\n",
    "        print('VCF\\n{}\\n'.format(vcf_data.head()))\n",
    "\n",
    "SAMPLE_ID = '738_0.05'\n",
    "add_format_sample(SAMPLE_ID, verbose=VERBOSE)"
   ]
  },
  {
   "cell_type": "code",
   "execution_count": null,
   "metadata": {
    "collapsed": true
   },
   "outputs": [],
   "source": [
    "with open('/Users/Kwat/Downloads/snps_to_add1.txt', 'r') as f:\n",
    "    for line in f.readlines()[1:]:\n",
    "        rs, chrom, start, stop, ref, alt = [e.strip() for e in line.split('\\t')]\n",
    "        row = {'#CHROM':chrom,\n",
    "               'POS':start,\n",
    "               'ID':rs,\n",
    "               'REF':ref,\n",
    "               'ALT':alt,\n",
    "               'QUAL':999,\n",
    "               'FILTER':'PASS',\n",
    "               'INFO':'',\n",
    "               'FORMAT':'GT:DP',\n",
    "               '738_0.05':'1/1:999'}\n",
    "        vcf_data = vcf_data.append(row, ignore_index=True)\n",
    "if VERBOSE:\n",
    "    print('VCF\\n{}\\n'.format(vcf_data.tail()))"
   ]
  },
  {
   "cell_type": "code",
   "execution_count": null,
   "metadata": {
    "collapsed": true
   },
   "outputs": [],
   "source": [
    "def write_vcf(fp_vcf, suffix='editted'):\n",
    "    assert fp_vcf.endswith('.vcf')\n",
    "    # Make output filename\n",
    "    sep_idx = fp_vcf.find('.vcf')\n",
    "    prefix, vcf_suffix = fp_vcf[:sep_idx], fp_vcf[sep_idx:]\n",
    "    fp_output = prefix + '.{}'.format(suffix) + vcf_suffix\n",
    "\n",
    "    # Save editted VCF\n",
    "    with open(fp_output, 'w') as f:\n",
    "        f.write('\\n'.join(meta_information))\n",
    "        f.write('\\n')\n",
    "        vcf_data.to_csv(f, sep='\\t', index=False)\n",
    "    print('Written: {}'.format(fp_output))\n",
    "\n",
    "write_vcf('/Users/Kwat/Desktop/0.05.concat.concat.rename_chr_sort.ann_snpeff.ann_clinvar.rename_chr_sort.vcf', suffix='add_fake_var')"
   ]
  },
  {
   "cell_type": "code",
   "execution_count": null,
   "metadata": {
    "collapsed": true
   },
   "outputs": [],
   "source": [
    "import os\n",
    "import sys\n",
    "CODE_BASEPATH = os.path.join(os.environ['GUARDIOME'], 'helixa', 'code')\n",
    "sys.path.insert(0, CODE_BASEPATH)\n",
    "from genomics import genomic_tools"
   ]
  },
  {
   "cell_type": "code",
   "execution_count": null,
   "metadata": {
    "collapsed": true
   },
   "outputs": [],
   "source": [
    "vcf_dir = '/Users/Kwat/Desktop'\n",
    "G_VCF = os.path.join(vcf_dir, '0.05.concat.concat.rename_chr_sort.ann_snpeff.ann_clinvar.rename_chr_sortadd_fake_var.vcf.gz')\n",
    "G_VCF_INDEX = os.path.join(vcf_dir, 'rs_id_index.pickle.gz')\n",
    "G_VCF_TABLE = os.path.join(vcf_dir, 'variant.hdf5')\n",
    "\n",
    "print('G_VCF\\t{}'.format(G_VCF))\n",
    "print('G_VCF_INDEX\\t{}'.format(G_VCF_INDEX))\n",
    "print('G_VCF_TABLE\\t{}'.format(G_VCF_TABLE))\n",
    "di = genomic_tools.DataInterface(vcf_filename=G_VCF,\n",
    "                                 variant_rs_id_index_filename=G_VCF_INDEX,\n",
    "                                 variant_table_filename=G_VCF_TABLE)"
   ]
  }
 ],
 "metadata": {
  "anaconda-cloud": {},
  "kernelspec": {
   "display_name": "Python [default]",
   "language": "python",
   "name": "python3"
  },
  "language_info": {
   "codemirror_mode": {
    "name": "ipython",
    "version": 3.0
   },
   "file_extension": ".py",
   "mimetype": "text/x-python",
   "name": "python",
   "nbconvert_exporter": "python",
   "pygments_lexer": "ipython3",
   "version": "3.5.2"
  }
 },
 "nbformat": 4,
 "nbformat_minor": 0
}