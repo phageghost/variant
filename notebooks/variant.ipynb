{
 "cells": [
  {
   "cell_type": "code",
   "execution_count": null,
   "metadata": {
    "collapsed": true
   },
   "outputs": [],
   "source": [
    "import sys\n",
    "sys.path.insert(0, '../')\n",
    "from variant.vcf import get_variants_by_tabix\n",
    "from variant.varianthdf5 import VariantHDF5\n",
    "\n",
    "%load_ext autoreload\n",
    "%autoreload 2"
   ]
  },
  {
   "cell_type": "code",
   "execution_count": null,
   "metadata": {
    "collapsed": true
   },
   "outputs": [],
   "source": [
    "VARIANT_FILE_PATH = '/home/k/Jumis/guardiome/data/customers/738/variants/738.concat_snp_indel.extract_chr.recode.ann_snpeff.ann_clinvar.rename_chr.vcf.gz'"
   ]
  },
  {
   "cell_type": "markdown",
   "metadata": {},
   "source": [
    "# tabix"
   ]
  },
  {
   "cell_type": "code",
   "execution_count": null,
   "metadata": {
    "collapsed": true
   },
   "outputs": [],
   "source": [
    "get_variants_by_tabix(VARIANT_FILE_PATH, chrom='11', start=116792991, end=116792991)"
   ]
  },
  {
   "cell_type": "markdown",
   "metadata": {},
   "source": [
    "# HDF5"
   ]
  },
  {
   "cell_type": "code",
   "execution_count": null,
   "metadata": {
    "scrolled": true
   },
   "outputs": [
    {
     "name": "stdout",
     "output_type": "stream",
     "text": [
      "Resetting ...\n",
      "Getting data-start position ...\n",
      "Counting variants per chromosome ...\n",
      "\t@ 1 ...\n",
      "\t@ 10 ...\n",
      "\t@ 11 ...\n",
      "\t@ 12 ...\n",
      "\t@ 13 ...\n",
      "\t@ 14 ...\n",
      "\t@ 15 ...\n",
      "\t@ 16 ...\n",
      "\t@ 17 ...\n",
      "\t@ 18 ...\n",
      "\t@ 19 ...\n",
      "\t@ 2 ...\n",
      "\t@ 20 ...\n",
      "\t@ 21 ...\n",
      "\t@ 22 ...\n",
      "\t@ 3 ...\n",
      "\t@ 4 ...\n",
      "\t@ 5 ...\n",
      "\t@ 6 ...\n",
      "\t@ 7 ...\n",
      "\t@ 8 ...\n",
      "\t@ 9 ...\n",
      "\t@ MT ...\n",
      "\t@ X ...\n",
      "\t@ Y ...\n",
      "Making variant HDF5 ...\n",
      "\t@ 1 ...\n",
      "\t\tMaking chromosome_1_variants table ...\n",
      "\t\tMaking chromosome_10_variants table ...\n",
      "\t\tMaking chromosome_11_variants table ...\n",
      "\t\tMaking chromosome_12_variants table ...\n",
      "\t@ 1000001 ...\n",
      "\t\tMaking chromosome_13_variants table ...\n",
      "\t\tMaking chromosome_14_variants table ...\n",
      "\t\tMaking chromosome_15_variants table ...\n",
      "\t\tMaking chromosome_16_variants table ...\n",
      "\t\tMaking chromosome_17_variants table ...\n",
      "\t\tMaking chromosome_18_variants table ...\n",
      "\t@ 2000001 ...\n",
      "\t\tMaking chromosome_19_variants table ...\n",
      "\t\tMaking chromosome_2_variants table ...\n",
      "\t\tMaking chromosome_20_variants table ...\n",
      "\t\tMaking chromosome_21_variants table ...\n",
      "\t\tMaking chromosome_22_variants table ...\n",
      "\t\tMaking chromosome_3_variants table ...\n",
      "\t@ 3000001 ...\n"
     ]
    }
   ],
   "source": [
    "variant_hdf5 = VariantHDF5(VARIANT_FILE_PATH, reset=True)"
   ]
  },
  {
   "cell_type": "code",
   "execution_count": null,
   "metadata": {
    "scrolled": false
   },
   "outputs": [],
   "source": [
    "variant_hdf5.get_variants_by_id('rs662799')"
   ]
  },
  {
   "cell_type": "code",
   "execution_count": null,
   "metadata": {
    "scrolled": false
   },
   "outputs": [],
   "source": [
    "variant_hdf5.get_variants_by_gene('TP53')"
   ]
  },
  {
   "cell_type": "code",
   "execution_count": null,
   "metadata": {
    "scrolled": true
   },
   "outputs": [],
   "source": [
    "variant_hdf5.get_variants_by_region(11, 116792991, 116792991)"
   ]
  }
 ],
 "metadata": {
  "kernelspec": {
   "display_name": "Python 3",
   "language": "python",
   "name": "python3"
  },
  "language_info": {
   "codemirror_mode": {
    "name": "ipython",
    "version": 3
   },
   "file_extension": ".py",
   "mimetype": "text/x-python",
   "name": "python",
   "nbconvert_exporter": "python",
   "pygments_lexer": "ipython3",
   "version": "3.6.1"
  }
 },
 "nbformat": 4,
 "nbformat_minor": 2
}
