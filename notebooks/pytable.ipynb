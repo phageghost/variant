{
 "cells": [
  {
   "cell_type": "code",
   "execution_count": 1,
   "metadata": {},
   "outputs": [],
   "source": [
    "import sys\n",
    "sys.path.insert(0, '../')\n",
    "from variant.varianthdf5 import VariantHDF5\n",
    "\n",
    "%load_ext autoreload\n",
    "%autoreload 2"
   ]
  },
  {
   "cell_type": "code",
   "execution_count": 8,
   "metadata": {
    "scrolled": true
   },
   "outputs": [
    {
     "name": "stdout",
     "output_type": "stream",
     "text": [
      "Resetting ...\n",
      "Getting data start position ...\n",
      "Counting variants in chromosomes ...\n",
      "\t@ 1 ...\n",
      "\t@ 10 ...\n",
      "\t@ 11 ...\n",
      "\t@ 12 ...\n",
      "\t@ 13 ...\n",
      "\t@ 14 ...\n",
      "\t@ 15 ...\n",
      "\t@ 16 ...\n",
      "\t@ 17 ...\n",
      "\t@ 18 ...\n",
      "\t@ 19 ...\n",
      "\t@ 2 ...\n",
      "\t@ 20 ...\n",
      "\t@ 21 ...\n",
      "\t@ 22 ...\n",
      "\t@ 3 ...\n",
      "\t@ 4 ...\n",
      "\t@ 5 ...\n",
      "\t@ 6 ...\n",
      "\t@ 7 ...\n",
      "\t@ 8 ...\n",
      "\t@ 9 ...\n",
      "\t@ MT ...\n",
      "\t@ X ...\n",
      "\t@ Y ...\n",
      "defaultdict(<function VariantHDF5._make_variant_hdf5.<locals>.<lambda> at 0x7f8b19d42ae8>,\n",
      "            {'1': 1,\n",
      "             '10': 1,\n",
      "             '11': 1,\n",
      "             '12': 1,\n",
      "             '13': 1,\n",
      "             '14': 1,\n",
      "             '15': 1,\n",
      "             '16': 1,\n",
      "             '17': 1,\n",
      "             '18': 1,\n",
      "             '19': 1,\n",
      "             '2': 1,\n",
      "             '20': 1,\n",
      "             '21': 1,\n",
      "             '22': 1,\n",
      "             '3': 1,\n",
      "             '4': 1,\n",
      "             '5': 1,\n",
      "             '6': 1,\n",
      "             '7': 1,\n",
      "             '8': 1,\n",
      "             '9': 1,\n",
      "             'MT': 1,\n",
      "             'X': 1,\n",
      "             'Y': 1})\n",
      "Making variant HDF5 ...\n",
      "\t@ 1 ...\n"
     ]
    },
    {
     "ename": "TypeError",
     "evalue": "get_variant_start_and_end_positions() takes 1 positional argument but 3 were given",
     "output_type": "error",
     "traceback": [
      "\u001b[0;31m---------------------------------------------------------------------------\u001b[0m",
      "\u001b[0;31mTypeError\u001b[0m                                 Traceback (most recent call last)",
      "\u001b[0;32m<ipython-input-8-5db3ccc65a07>\u001b[0m in \u001b[0;36m<module>\u001b[0;34m()\u001b[0m\n\u001b[1;32m      1\u001b[0m \u001b[0mVARIANT_FILE_PATH\u001b[0m \u001b[0;34m=\u001b[0m \u001b[0;34m'/home/k/Jumis/guardiome/genome-data/customers/738/variant/738.concat_snp_indel.extract_chr.recode.ann_snpeff.ann_clinvar.rename_chr.vcf.gz'\u001b[0m\u001b[0;34m\u001b[0m\u001b[0m\n\u001b[0;32m----> 2\u001b[0;31m \u001b[0mvariant_hdf5\u001b[0m \u001b[0;34m=\u001b[0m \u001b[0mVariantHDF5\u001b[0m\u001b[0;34m(\u001b[0m\u001b[0mVARIANT_FILE_PATH\u001b[0m\u001b[0;34m,\u001b[0m \u001b[0mreset\u001b[0m\u001b[0;34m=\u001b[0m\u001b[0;32mTrue\u001b[0m\u001b[0;34m)\u001b[0m\u001b[0;34m\u001b[0m\u001b[0m\n\u001b[0m",
      "\u001b[0;32m/home/k/Jumis/tools/repositories/variant/variant/varianthdf5.py\u001b[0m in \u001b[0;36m__init__\u001b[0;34m(self, variant_file_path, reset)\u001b[0m\n\u001b[1;32m     35\u001b[0m         \u001b[0mself\u001b[0m\u001b[0;34m.\u001b[0m\u001b[0mrsid_to_chrom_dict\u001b[0m \u001b[0;34m=\u001b[0m \u001b[0;34m{\u001b[0m\u001b[0;34m}\u001b[0m\u001b[0;34m\u001b[0m\u001b[0m\n\u001b[1;32m     36\u001b[0m \u001b[0;34m\u001b[0m\u001b[0m\n\u001b[0;32m---> 37\u001b[0;31m         \u001b[0mself\u001b[0m\u001b[0;34m.\u001b[0m\u001b[0m_load_data\u001b[0m\u001b[0;34m(\u001b[0m\u001b[0mreset\u001b[0m\u001b[0;34m=\u001b[0m\u001b[0mreset\u001b[0m\u001b[0;34m)\u001b[0m\u001b[0;34m\u001b[0m\u001b[0m\n\u001b[0m\u001b[1;32m     38\u001b[0m \u001b[0;34m\u001b[0m\u001b[0m\n\u001b[1;32m     39\u001b[0m     \u001b[0;32mdef\u001b[0m \u001b[0m__del__\u001b[0m\u001b[0;34m(\u001b[0m\u001b[0mself\u001b[0m\u001b[0;34m)\u001b[0m\u001b[0;34m:\u001b[0m\u001b[0;34m\u001b[0m\u001b[0m\n",
      "\u001b[0;32m/home/k/Jumis/tools/repositories/variant/variant/varianthdf5.py\u001b[0m in \u001b[0;36m_load_data\u001b[0;34m(self, reset)\u001b[0m\n\u001b[1;32m     74\u001b[0m                 \u001b[0mself\u001b[0m\u001b[0;34m.\u001b[0m\u001b[0mvariant_hdf5\u001b[0m\u001b[0;34m.\u001b[0m\u001b[0mclose\u001b[0m\u001b[0;34m(\u001b[0m\u001b[0;34m)\u001b[0m\u001b[0;34m\u001b[0m\u001b[0m\n\u001b[1;32m     75\u001b[0m \u001b[0;34m\u001b[0m\u001b[0m\n\u001b[0;32m---> 76\u001b[0;31m             \u001b[0mself\u001b[0m\u001b[0;34m.\u001b[0m\u001b[0m_make_variant_hdf5\u001b[0m\u001b[0;34m(\u001b[0m\u001b[0;34m)\u001b[0m\u001b[0;34m\u001b[0m\u001b[0m\n\u001b[0m\u001b[1;32m     77\u001b[0m \u001b[0;34m\u001b[0m\u001b[0m\n\u001b[1;32m     78\u001b[0m             self.variant_hdf5 = open_file(\n",
      "\u001b[0;32m/home/k/Jumis/tools/repositories/variant/variant/varianthdf5.py\u001b[0m in \u001b[0;36m_make_variant_hdf5\u001b[0;34m(self)\u001b[0m\n\u001b[1;32m    124\u001b[0m                         '\\t')[:10]\n\u001b[1;32m    125\u001b[0m                     start, end = get_variant_start_and_end_positions(\n\u001b[0;32m--> 126\u001b[0;31m                         int(pos), ref, alt)\n\u001b[0m\u001b[1;32m    127\u001b[0m \u001b[0;34m\u001b[0m\u001b[0m\n\u001b[1;32m    128\u001b[0m                     \u001b[0;32mif\u001b[0m \u001b[0mchrom\u001b[0m \u001b[0;32mnot\u001b[0m \u001b[0;32min\u001b[0m \u001b[0mchrom_table_to_row_dict\u001b[0m\u001b[0;34m:\u001b[0m\u001b[0;34m\u001b[0m\u001b[0m\n",
      "\u001b[0;31mTypeError\u001b[0m: get_variant_start_and_end_positions() takes 1 positional argument but 3 were given"
     ]
    }
   ],
   "source": [
    "VARIANT_FILE_PATH = '/home/k/Jumis/guardiome/genome-data/customers/738/variant/738.concat_snp_indel.extract_chr.recode.ann_snpeff.ann_clinvar.rename_chr.vcf.gz'\n",
    "variant_hdf5 = VariantHDF5(VARIANT_FILE_PATH, reset=True)"
   ]
  },
  {
   "cell_type": "code",
   "execution_count": null,
   "metadata": {
    "collapsed": true
   },
   "outputs": [],
   "source": [
    "variant_hdf5."
   ]
  },
  {
   "cell_type": "code",
   "execution_count": null,
   "metadata": {},
   "outputs": [],
   "source": [
    "variant_hdf5.get_variant_by_id('rs1573247')"
   ]
  }
 ],
 "metadata": {
  "kernelspec": {
   "display_name": "Python 3",
   "language": "python",
   "name": "python3"
  },
  "language_info": {
   "codemirror_mode": {
    "name": "ipython",
    "version": 3
   },
   "file_extension": ".py",
   "mimetype": "text/x-python",
   "name": "python",
   "nbconvert_exporter": "python",
   "pygments_lexer": "ipython3",
   "version": "3.6.1"
  }
 },
 "nbformat": 4,
 "nbformat_minor": 2
}
