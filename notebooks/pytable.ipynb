{
 "cells": [
  {
   "cell_type": "code",
   "execution_count": 1,
   "metadata": {},
   "outputs": [],
   "source": [
    "import sys\n",
    "sys.path.insert(0, '../')\n",
    "from variant.varianthdf5 import VariantHDF5\n",
    "\n",
    "%load_ext autoreload\n",
    "%autoreload 2"
   ]
  },
  {
   "cell_type": "code",
   "execution_count": 2,
   "metadata": {
    "scrolled": true
   },
   "outputs": [
    {
     "name": "stdout",
     "output_type": "stream",
     "text": [
      "Reading variant HDF5 ...\n",
      "Reading ID-to-chromosome dict ...\n"
     ]
    }
   ],
   "source": [
    "VARIANT_FILE_PATH = '/home/k/Jumis/guardiome/genome-data/customers/738/variant/738.concat_snp_indel.extract_chr.recode.ann_snpeff.ann_clinvar.rename_chr.vcf.gz'\n",
    "variant_hdf5 = VariantHDF5(VARIANT_FILE_PATH)"
   ]
  },
  {
   "cell_type": "code",
   "execution_count": 7,
   "metadata": {},
   "outputs": [
    {
     "name": "stdout",
     "output_type": "stream",
     "text": [
      "(b'A', b'11', b'None', b'rs662799', 1181.77001953125, b'G', b'upstream_gene_variant', 116792991, b'ZPR1', b'MODIFIER', b'', 116792991, b'SNP')\n"
     ]
    },
    {
     "data": {
      "text/plain": [
       "[{'ALT': 'A',\n",
       "  'CHROM': '11',\n",
       "  'GT': 'None',\n",
       "  'ID': 'rs662799',\n",
       "  'QUAL': 1181.77,\n",
       "  'REF': 'G',\n",
       "  'effect': 'upstream_gene_variant',\n",
       "  'end': 116792991,\n",
       "  'gene_name': 'ZPR1',\n",
       "  'impact': 'MODIFIER',\n",
       "  'pathogenicity': '',\n",
       "  'start': 116792991,\n",
       "  'variant_type': 'SNP'}]"
      ]
     },
     "execution_count": 7,
     "metadata": {},
     "output_type": "execute_result"
    }
   ],
   "source": [
    "variant_hdf5.get_variant_by_id('rs662799')"
   ]
  }
 ],
 "metadata": {
  "kernelspec": {
   "display_name": "Python 3",
   "language": "python",
   "name": "python3"
  },
  "language_info": {
   "codemirror_mode": {
    "name": "ipython",
    "version": 3
   },
   "file_extension": ".py",
   "mimetype": "text/x-python",
   "name": "python",
   "nbconvert_exporter": "python",
   "pygments_lexer": "ipython3",
   "version": "3.6.1"
  }
 },
 "nbformat": 4,
 "nbformat_minor": 2
}
