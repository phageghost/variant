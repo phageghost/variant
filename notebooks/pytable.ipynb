{
 "cells": [
  {
   "cell_type": "code",
   "execution_count": 1,
   "metadata": {},
   "outputs": [],
   "source": [
    "import sys\n",
    "sys.path.insert(0, '../')\n",
    "from variant.varianthdf5 import VariantHDF5\n",
    "\n",
    "%load_ext autoreload\n",
    "%autoreload 2"
   ]
  },
  {
   "cell_type": "code",
   "execution_count": 2,
   "metadata": {
    "scrolled": false
   },
   "outputs": [
    {
     "name": "stdout",
     "output_type": "stream",
     "text": [
      "Resetting ...\n",
      "Making variant HDF5 ...\n",
      "Getting data start position ...\n",
      "Counting variants in chromosomes ...\n",
      "\t@ 1 ...\n",
      "\t@ 10 ...\n",
      "\t@ 11 ...\n",
      "\t@ 12 ...\n",
      "\t@ 13 ...\n",
      "\t@ 14 ...\n",
      "\t@ 15 ...\n",
      "\t@ 16 ...\n",
      "\t@ 17 ...\n",
      "\t@ 18 ...\n",
      "\t@ 19 ...\n",
      "\t@ 2 ...\n",
      "\t@ 20 ...\n",
      "\t@ 21 ...\n",
      "\t@ 22 ...\n",
      "\t@ 3 ...\n",
      "\t@ 4 ...\n",
      "\t@ 5 ...\n",
      "\t@ 6 ...\n",
      "\t@ 7 ...\n",
      "\t@ 8 ...\n",
      "\t@ 9 ...\n",
      "\t@ MT ...\n",
      "\t@ X ...\n",
      "\t@ Y ...\n",
      "defaultdict(<function VariantHDF5._make_variant_hdf5.<locals>.<lambda> at 0x7f3b483ead90>,\n",
      "            {'1': 372124,\n",
      "             '10': 249020,\n",
      "             '11': 240544,\n",
      "             '12': 231845,\n",
      "             '13': 179803,\n",
      "             '14': 152565,\n",
      "             '15': 146512,\n",
      "             '16': 159467,\n",
      "             '17': 150092,\n",
      "             '18': 138271,\n",
      "             '19': 109788,\n",
      "             '2': 401037,\n",
      "             '20': 144307,\n",
      "             '21': 104367,\n",
      "             '22': 107316,\n",
      "             '3': 336097,\n",
      "             '4': 355664,\n",
      "             '5': 285518,\n",
      "             '6': 296731,\n",
      "             '7': 289264,\n",
      "             '8': 243301,\n",
      "             '9': 236641,\n",
      "             'MT': 30,\n",
      "             'X': 106614,\n",
      "             'Y': 23120})\n",
      "Making variant HDF5 ...\n",
      "\t@ 1 ...\n",
      "['0', '1']\n",
      "\t\tMaking chromosome_1_variants ...\n"
     ]
    },
    {
     "ename": "TypeError",
     "evalue": "invalid type (<class 'list'>) for column ``GT``",
     "output_type": "error",
     "traceback": [
      "\u001b[0;31m---------------------------------------------------------------------------\u001b[0m",
      "\u001b[0;31mTypeError\u001b[0m                                 Traceback (most recent call last)",
      "\u001b[0;32mtables/tableextension.pyx\u001b[0m in \u001b[0;36mtables.tableextension.Row.__setitem__ (tables/tableextension.c:18191)\u001b[0;34m()\u001b[0m\n",
      "\u001b[0;31mTypeError\u001b[0m: ",
      "\nDuring handling of the above exception, another exception occurred:\n",
      "\u001b[0;31mTypeError\u001b[0m                                 Traceback (most recent call last)",
      "\u001b[0;32m<ipython-input-2-5db3ccc65a07>\u001b[0m in \u001b[0;36m<module>\u001b[0;34m()\u001b[0m\n\u001b[1;32m      1\u001b[0m \u001b[0mVARIANT_FILE_PATH\u001b[0m \u001b[0;34m=\u001b[0m \u001b[0;34m'/home/k/Jumis/guardiome/genome-data/customers/738/variant/738.concat_snp_indel.extract_chr.recode.ann_snpeff.ann_clinvar.rename_chr.vcf.gz'\u001b[0m\u001b[0;34m\u001b[0m\u001b[0m\n\u001b[0;32m----> 2\u001b[0;31m \u001b[0mvariant_hdf5\u001b[0m \u001b[0;34m=\u001b[0m \u001b[0mVariantHDF5\u001b[0m\u001b[0;34m(\u001b[0m\u001b[0mVARIANT_FILE_PATH\u001b[0m\u001b[0;34m,\u001b[0m \u001b[0mreset\u001b[0m\u001b[0;34m=\u001b[0m\u001b[0;32mTrue\u001b[0m\u001b[0;34m)\u001b[0m\u001b[0;34m\u001b[0m\u001b[0m\n\u001b[0m",
      "\u001b[0;32m/home/k/Jumis/tools/repositories/variant/variant/varianthdf5.py\u001b[0m in \u001b[0;36m__init__\u001b[0;34m(self, variant_file_path, reset)\u001b[0m\n\u001b[1;32m     36\u001b[0m         \u001b[0mself\u001b[0m\u001b[0;34m.\u001b[0m\u001b[0mgene_to_chrom_dict\u001b[0m \u001b[0;34m=\u001b[0m \u001b[0;34m{\u001b[0m\u001b[0;34m}\u001b[0m\u001b[0;34m\u001b[0m\u001b[0m\n\u001b[1;32m     37\u001b[0m \u001b[0;34m\u001b[0m\u001b[0m\n\u001b[0;32m---> 38\u001b[0;31m         \u001b[0mself\u001b[0m\u001b[0;34m.\u001b[0m\u001b[0m_load_data\u001b[0m\u001b[0;34m(\u001b[0m\u001b[0mreset\u001b[0m\u001b[0;34m=\u001b[0m\u001b[0mreset\u001b[0m\u001b[0;34m)\u001b[0m\u001b[0;34m\u001b[0m\u001b[0m\n\u001b[0m\u001b[1;32m     39\u001b[0m \u001b[0;34m\u001b[0m\u001b[0m\n\u001b[1;32m     40\u001b[0m     \u001b[0;32mdef\u001b[0m \u001b[0m__del__\u001b[0m\u001b[0;34m(\u001b[0m\u001b[0mself\u001b[0m\u001b[0;34m)\u001b[0m\u001b[0;34m:\u001b[0m\u001b[0;34m\u001b[0m\u001b[0m\n",
      "\u001b[0;32m/home/k/Jumis/tools/repositories/variant/variant/varianthdf5.py\u001b[0m in \u001b[0;36m_load_data\u001b[0;34m(self, reset)\u001b[0m\n\u001b[1;32m     80\u001b[0m \u001b[0;34m\u001b[0m\u001b[0m\n\u001b[1;32m     81\u001b[0m             \u001b[0mprint\u001b[0m\u001b[0;34m(\u001b[0m\u001b[0;34m'Making variant HDF5 ...'\u001b[0m\u001b[0;34m)\u001b[0m\u001b[0;34m\u001b[0m\u001b[0m\n\u001b[0;32m---> 82\u001b[0;31m             \u001b[0mself\u001b[0m\u001b[0;34m.\u001b[0m\u001b[0m_make_variant_hdf5\u001b[0m\u001b[0;34m(\u001b[0m\u001b[0;34m)\u001b[0m\u001b[0;34m\u001b[0m\u001b[0m\n\u001b[0m\u001b[1;32m     83\u001b[0m \u001b[0;34m\u001b[0m\u001b[0m\n\u001b[1;32m     84\u001b[0m             \u001b[0mprint\u001b[0m\u001b[0;34m(\u001b[0m\u001b[0;34m'Reading variant HDF5 ...'\u001b[0m\u001b[0;34m)\u001b[0m\u001b[0;34m\u001b[0m\u001b[0m\n",
      "\u001b[0;32m/home/k/Jumis/tools/repositories/variant/variant/varianthdf5.py\u001b[0m in \u001b[0;36m_make_variant_hdf5\u001b[0;34m(self)\u001b[0m\n\u001b[1;32m    172\u001b[0m                     \u001b[0mcursor\u001b[0m\u001b[0;34m[\u001b[0m\u001b[0;34m'impact'\u001b[0m\u001b[0;34m]\u001b[0m \u001b[0;34m=\u001b[0m \u001b[0mimpact\u001b[0m\u001b[0;34m\u001b[0m\u001b[0m\n\u001b[1;32m    173\u001b[0m                     \u001b[0mcursor\u001b[0m\u001b[0;34m[\u001b[0m\u001b[0;34m'gene_name'\u001b[0m\u001b[0;34m]\u001b[0m \u001b[0;34m=\u001b[0m \u001b[0mgene_name\u001b[0m\u001b[0;34m\u001b[0m\u001b[0m\n\u001b[0;32m--> 174\u001b[0;31m                     \u001b[0mcursor\u001b[0m\u001b[0;34m[\u001b[0m\u001b[0;34m'GT'\u001b[0m\u001b[0;34m]\u001b[0m \u001b[0;34m=\u001b[0m \u001b[0mgt\u001b[0m\u001b[0;34m\u001b[0m\u001b[0m\n\u001b[0m\u001b[1;32m    175\u001b[0m \u001b[0;34m\u001b[0m\u001b[0m\n\u001b[1;32m    176\u001b[0m                     \u001b[0mcursor\u001b[0m\u001b[0;34m.\u001b[0m\u001b[0mappend\u001b[0m\u001b[0;34m(\u001b[0m\u001b[0;34m)\u001b[0m\u001b[0;34m\u001b[0m\u001b[0m\n",
      "\u001b[0;32mtables/tableextension.pyx\u001b[0m in \u001b[0;36mtables.tableextension.Row.__setitem__ (tables/tableextension.c:18287)\u001b[0;34m()\u001b[0m\n",
      "\u001b[0;31mTypeError\u001b[0m: invalid type (<class 'list'>) for column ``GT``"
     ]
    }
   ],
   "source": [
    "VARIANT_FILE_PATH = '/home/k/Jumis/guardiome/genome-data/customers/738/variant/738.concat_snp_indel.extract_chr.recode.ann_snpeff.ann_clinvar.rename_chr.vcf.gz'\n",
    "variant_hdf5 = VariantHDF5(VARIANT_FILE_PATH, reset=True)"
   ]
  },
  {
   "cell_type": "code",
   "execution_count": null,
   "metadata": {},
   "outputs": [],
   "source": [
    "variant_hdf5.get_variants_by_id('rs662799')"
   ]
  },
  {
   "cell_type": "code",
   "execution_count": null,
   "metadata": {},
   "outputs": [],
   "source": [
    "variant_hdf5.get_variants_by_gene('ZPR1')"
   ]
  },
  {
   "cell_type": "code",
   "execution_count": null,
   "metadata": {
    "scrolled": false
   },
   "outputs": [],
   "source": [
    "variant_hdf5.get_variants_by_region(11, 116792991, 116792991)"
   ]
  }
 ],
 "metadata": {
  "kernelspec": {
   "display_name": "Python 3",
   "language": "python",
   "name": "python3"
  },
  "language_info": {
   "codemirror_mode": {
    "name": "ipython",
    "version": 3
   },
   "file_extension": ".py",
   "mimetype": "text/x-python",
   "name": "python",
   "nbconvert_exporter": "python",
   "pygments_lexer": "ipython3",
   "version": "3.6.1"
  }
 },
 "nbformat": 4,
 "nbformat_minor": 2
}
