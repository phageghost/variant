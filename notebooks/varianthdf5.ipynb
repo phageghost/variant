{
 "cells": [
  {
   "cell_type": "code",
   "execution_count": 1,
   "metadata": {},
   "outputs": [],
   "source": [
    "import sys\n",
    "sys.path.insert(0, '../')\n",
    "from variant.varianthdf5 import VariantHDF5\n",
    "\n",
    "%load_ext autoreload\n",
    "%autoreload 2"
   ]
  },
  {
   "cell_type": "code",
   "execution_count": 2,
   "metadata": {
    "scrolled": false
   },
   "outputs": [
    {
     "name": "stdout",
     "output_type": "stream",
     "text": [
      "Resetting ...\n",
      "Making variant HDF5 ...\n",
      "Getting data-start position ...\n",
      "Counting variants in chromosomes ...\n",
      "\t@ 1 ...\n",
      "\t@ 10 ...\n",
      "\t@ 11 ...\n",
      "\t@ 12 ...\n",
      "\t@ 13 ...\n",
      "\t@ 14 ...\n",
      "\t@ 15 ...\n",
      "\t@ 16 ...\n",
      "\t@ 17 ...\n",
      "\t@ 18 ...\n",
      "\t@ 19 ...\n",
      "\t@ 2 ...\n",
      "\t@ 20 ...\n",
      "\t@ 21 ...\n",
      "\t@ 22 ...\n",
      "\t@ 3 ...\n",
      "\t@ 4 ...\n",
      "\t@ 5 ...\n",
      "\t@ 6 ...\n",
      "\t@ 7 ...\n",
      "\t@ 8 ...\n",
      "\t@ 9 ...\n",
      "\t@ MT ...\n",
      "\t@ X ...\n",
      "\t@ Y ...\n",
      "defaultdict(<function VariantHDF5._make_variant_hdf5.<locals>.<lambda> at 0x7f51525b9d90>,\n",
      "            {'1': 372124,\n",
      "             '10': 249020,\n",
      "             '11': 240544,\n",
      "             '12': 231845,\n",
      "             '13': 179803,\n",
      "             '14': 152565,\n",
      "             '15': 146512,\n",
      "             '16': 159467,\n",
      "             '17': 150092,\n",
      "             '18': 138271,\n",
      "             '19': 109788,\n",
      "             '2': 401037,\n",
      "             '20': 144307,\n",
      "             '21': 104367,\n",
      "             '22': 107316,\n",
      "             '3': 336097,\n",
      "             '4': 355664,\n",
      "             '5': 285518,\n",
      "             '6': 296731,\n",
      "             '7': 289264,\n",
      "             '8': 243301,\n",
      "             '9': 236641,\n",
      "             'MT': 30,\n",
      "             'X': 106614,\n",
      "             'Y': 23120})\n",
      "Making variant HDF5 ...\n",
      "\t@ 1 ...\n",
      "\t\tMade chromosome_1_variants table.\n",
      "\t\tMade chromosome_10_variants table.\n",
      "\t\tMade chromosome_11_variants table.\n",
      "\t\tMade chromosome_12_variants table.\n",
      "\t@ 1000001 ...\n",
      "\t\tMade chromosome_13_variants table.\n",
      "\t\tMade chromosome_14_variants table.\n",
      "\t\tMade chromosome_15_variants table.\n",
      "\t\tMade chromosome_16_variants table.\n",
      "\t\tMade chromosome_17_variants table.\n",
      "\t\tMade chromosome_18_variants table.\n",
      "\t@ 2000001 ...\n",
      "\t\tMade chromosome_19_variants table.\n",
      "\t\tMade chromosome_2_variants table.\n",
      "\t\tMade chromosome_20_variants table.\n",
      "\t\tMade chromosome_21_variants table.\n",
      "\t\tMade chromosome_22_variants table.\n",
      "\t\tMade chromosome_3_variants table.\n",
      "\t@ 3000001 ...\n",
      "\t\tMade chromosome_4_variants table.\n",
      "\t\tMade chromosome_5_variants table.\n",
      "\t\tMade chromosome_6_variants table.\n",
      "\t@ 4000001 ...\n",
      "\t\tMade chromosome_7_variants table.\n",
      "\t\tMade chromosome_8_variants table.\n",
      "\t\tMade chromosome_9_variants table.\n",
      "\t\tMade chromosome_MT_variants table.\n",
      "\t\tMade chromosome_X_variants table.\n",
      "\t@ 5000001 ...\n",
      "\t\tMade chromosome_Y_variants table.\n",
      "Flushing tables and making column indices ...\n",
      "\tchromosome_1_variants table ...\n",
      "\tchromosome_10_variants table ...\n",
      "\tchromosome_11_variants table ...\n",
      "\tchromosome_12_variants table ...\n",
      "\tchromosome_13_variants table ...\n",
      "\tchromosome_14_variants table ...\n",
      "\tchromosome_15_variants table ...\n",
      "\tchromosome_16_variants table ...\n",
      "\tchromosome_17_variants table ...\n",
      "\tchromosome_18_variants table ...\n",
      "\tchromosome_19_variants table ...\n",
      "\tchromosome_2_variants table ...\n",
      "\tchromosome_20_variants table ...\n",
      "\tchromosome_21_variants table ...\n",
      "\tchromosome_22_variants table ...\n",
      "\tchromosome_3_variants table ...\n",
      "\tchromosome_4_variants table ...\n",
      "\tchromosome_5_variants table ...\n",
      "\tchromosome_6_variants table ...\n",
      "\tchromosome_7_variants table ...\n",
      "\tchromosome_8_variants table ...\n",
      "\tchromosome_9_variants table ...\n",
      "\tchromosome_MT_variants table ...\n",
      "\tchromosome_X_variants table ...\n",
      "\tchromosome_Y_variants table ...\n",
      "/home/k/Jumis/guardiome/data/customers/738/variants/738.concat_snp_indel.extract_chr.recode.ann_snpeff.ann_clinvar.rename_chr.vcf.gz.hdf5 (File) ''\n",
      "Last modif.: 'Thu Jun  1 01:14:43 2017'\n",
      "Object Tree: \n",
      "/ (RootGroup) ''\n",
      "/chromosome_10_variants (Table(249020,), shuffle, blosc(1)) ''\n",
      "/chromosome_11_variants (Table(240544,), shuffle, blosc(1)) ''\n",
      "/chromosome_12_variants (Table(231845,), shuffle, blosc(1)) ''\n",
      "/chromosome_13_variants (Table(179803,), shuffle, blosc(1)) ''\n",
      "/chromosome_14_variants (Table(152565,), shuffle, blosc(1)) ''\n",
      "/chromosome_15_variants (Table(146512,), shuffle, blosc(1)) ''\n",
      "/chromosome_16_variants (Table(159467,), shuffle, blosc(1)) ''\n",
      "/chromosome_17_variants (Table(150092,), shuffle, blosc(1)) ''\n",
      "/chromosome_18_variants (Table(138271,), shuffle, blosc(1)) ''\n",
      "/chromosome_19_variants (Table(109788,), shuffle, blosc(1)) ''\n",
      "/chromosome_1_variants (Table(372124,), shuffle, blosc(1)) ''\n",
      "/chromosome_20_variants (Table(144307,), shuffle, blosc(1)) ''\n",
      "/chromosome_21_variants (Table(104367,), shuffle, blosc(1)) ''\n",
      "/chromosome_22_variants (Table(107316,), shuffle, blosc(1)) ''\n",
      "/chromosome_2_variants (Table(401037,), shuffle, blosc(1)) ''\n",
      "/chromosome_3_variants (Table(336097,), shuffle, blosc(1)) ''\n",
      "/chromosome_4_variants (Table(355664,), shuffle, blosc(1)) ''\n",
      "/chromosome_5_variants (Table(285518,), shuffle, blosc(1)) ''\n",
      "/chromosome_6_variants (Table(296731,), shuffle, blosc(1)) ''\n",
      "/chromosome_7_variants (Table(289264,), shuffle, blosc(1)) ''\n",
      "/chromosome_8_variants (Table(243301,), shuffle, blosc(1)) ''\n",
      "/chromosome_9_variants (Table(236641,), shuffle, blosc(1)) ''\n",
      "/chromosome_MT_variants (Table(30,), shuffle, blosc(1)) ''\n",
      "/chromosome_X_variants (Table(106614,), shuffle, blosc(1)) ''\n",
      "/chromosome_Y_variants (Table(23120,), shuffle, blosc(1)) ''\n",
      "\n",
      "Writing ID-to-chromosome dict ...\n",
      "Writing gene-to-chromosome dict ...\n",
      "Reading variant HDF5 ...\n"
     ]
    }
   ],
   "source": [
    "VARIANT_FILE_PATH = '/home/k/Jumis/guardiome/data/customers/738/variants/738.concat_snp_indel.extract_chr.recode.ann_snpeff.ann_clinvar.rename_chr.vcf.gz'\n",
    "variant_hdf5 = VariantHDF5(VARIANT_FILE_PATH, reset=True)"
   ]
  },
  {
   "cell_type": "code",
   "execution_count": 16,
   "metadata": {
    "scrolled": false
   },
   "outputs": [
    {
     "name": "stdout",
     "output_type": "stream",
     "text": [
      "Reading chromosome_11_variants where: ID == b'rs662799' ...\n",
      "Unknown: effect=upstream_gene_va & variant_type=SNP & inframe=True.\n"
     ]
    },
    {
     "data": {
      "text/plain": [
       "[{'ALT': 'A',\n",
       "  'ANN': {0: {'effect': 'upstream_gene_va',\n",
       "    'gene_name': 'ZPR1',\n",
       "    'impact': 'MODIFIER',\n",
       "    'variant_classification': 'Targeted_Region'}},\n",
       "  'CHROM': '11',\n",
       "  'ID': 'rs662799',\n",
       "  'POS': 116792991,\n",
       "  'QUAL': 1181.77,\n",
       "  'REF': 'G',\n",
       "  'confidence': 1.0,\n",
       "  'end': 116792991,\n",
       "  'sample': {0: {'genotype': 'A|A'}},\n",
       "  'start': 116792991,\n",
       "  'variant_type': 'SNP'}]"
      ]
     },
     "execution_count": 16,
     "metadata": {},
     "output_type": "execute_result"
    }
   ],
   "source": [
    "variant_hdf5.get_variants_by_id('rs662799')"
   ]
  },
  {
   "cell_type": "code",
   "execution_count": null,
   "metadata": {
    "scrolled": true
   },
   "outputs": [],
   "source": [
    "variant_hdf5.get_variants_by_gene('TP53')"
   ]
  },
  {
   "cell_type": "code",
   "execution_count": null,
   "metadata": {
    "scrolled": true
   },
   "outputs": [],
   "source": [
    "variant_hdf5.get_variants_by_region(11, 116792991, 116792991)"
   ]
  },
  {
   "cell_type": "code",
   "execution_count": 15,
   "metadata": {},
   "outputs": [
    {
     "data": {
      "text/plain": [
       "1e-100"
      ]
     },
     "execution_count": 15,
     "metadata": {},
     "output_type": "execute_result"
    }
   ],
   "source": [
    "10**(-1000/10)"
   ]
  }
 ],
 "metadata": {
  "kernelspec": {
   "display_name": "Python 3",
   "language": "python",
   "name": "python3"
  },
  "language_info": {
   "codemirror_mode": {
    "name": "ipython",
    "version": 3
   },
   "file_extension": ".py",
   "mimetype": "text/x-python",
   "name": "python",
   "nbconvert_exporter": "python",
   "pygments_lexer": "ipython3",
   "version": "3.6.1"
  }
 },
 "nbformat": 4,
 "nbformat_minor": 2
}
