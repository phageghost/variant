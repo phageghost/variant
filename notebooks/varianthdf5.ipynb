{
 "cells": [
  {
   "cell_type": "code",
   "execution_count": null,
   "metadata": {},
   "outputs": [],
   "source": [
    "import sys\n",
    "sys.path.insert(0, '../')\n",
    "from variant.varianthdf5 import VariantHDF5\n",
    "\n",
    "%load_ext autoreload\n",
    "%autoreload 2"
   ]
  },
  {
   "cell_type": "code",
   "execution_count": null,
   "metadata": {
    "scrolled": false
   },
   "outputs": [
    {
     "name": "stdout",
     "output_type": "stream",
     "text": [
      "Resetting ...\n",
      "Getting data-start position ...\n",
      "Counting variants per chromosome ...\n",
      "\t@ 1 ...\n",
      "\t@ 10 ...\n",
      "\t@ 11 ...\n",
      "\t@ 12 ...\n",
      "\t@ 13 ...\n",
      "\t@ 14 ...\n",
      "\t@ 15 ...\n",
      "\t@ 16 ...\n",
      "\t@ 17 ...\n",
      "\t@ 18 ...\n",
      "\t@ 19 ...\n",
      "\t@ 2 ...\n",
      "\t@ 20 ...\n",
      "\t@ 21 ...\n",
      "\t@ 22 ...\n",
      "\t@ 3 ...\n",
      "\t@ 4 ...\n",
      "\t@ 5 ...\n",
      "\t@ 6 ...\n",
      "\t@ 7 ...\n",
      "\t@ 8 ...\n",
      "\t@ 9 ...\n",
      "\t@ MT ...\n",
      "\t@ X ...\n",
      "\t@ Y ...\n",
      "defaultdict(<function VariantHDF5._make_variant_hdf5.<locals>.<lambda> at 0x7f16c0dfc488>,\n",
      "            {'1': 372124,\n",
      "             '10': 249020,\n",
      "             '11': 240544,\n",
      "             '12': 231845,\n",
      "             '13': 179803,\n",
      "             '14': 152565,\n",
      "             '15': 146512,\n",
      "             '16': 159467,\n",
      "             '17': 150092,\n",
      "             '18': 138271,\n",
      "             '19': 109788,\n",
      "             '2': 401037,\n",
      "             '20': 144307,\n",
      "             '21': 104367,\n",
      "             '22': 107316,\n",
      "             '3': 336097,\n",
      "             '4': 355664,\n",
      "             '5': 285518,\n",
      "             '6': 296731,\n",
      "             '7': 289264,\n",
      "             '8': 243301,\n",
      "             '9': 236641,\n",
      "             'MT': 30,\n",
      "             'X': 106614,\n",
      "             'Y': 23120})\n",
      "Making variant HDF5 ...\n",
      "\t@ 1 ...\n",
      "\t\tMaking chromosome_1_variants table ...\n",
      "\tCLNDBN error with Charcot-Marie-Tooth\\x2c_Type_1|Charcot-Marie-Tooth\\x2c_Intermediate|Roussy-LÃ©vy_syndrome|Congenital_hypomyelinating_neuropathy\n",
      "\tCLNDBN error with not_specified|ChÃ©diak-Higashi_syndrome\n",
      "\t\tMaking chromosome_10_variants table ...\n",
      "\t\tMaking chromosome_11_variants table ...\n",
      "\tCLNDBN error with not_specified|Haim-Munk_syndrome|Papillon-LefÃ¨vre_syndrome\n",
      "\tCLNDBN error with Papillon-LefÃ¨vre_syndrome|Haim-Munk_syndrome\n",
      "\t\tMaking chromosome_12_variants table ...\n",
      "\t@ 1000001 ...\n",
      "\t\tMaking chromosome_13_variants table ...\n",
      "\t\tMaking chromosome_14_variants table ...\n",
      "\t\tMaking chromosome_15_variants table ...\n",
      "\t\tMaking chromosome_16_variants table ...\n",
      "\t\tMaking chromosome_17_variants table ...\n",
      "\tCLNDBN error with SjÃ¶gren-Larsson_syndrome\n",
      "\tCLNDBN error with SjÃ¶gren-Larsson_syndrome\n",
      "\tCLNDBN error with SjÃ¶gren-Larsson_syndrome\n",
      "\tCLNDBN error with Hereditary_cancer-predisposing_syndrome|not_specified|Neurofibromatosis\\x2c_familial_spinal|Neurofibromatosis\\x2c_type_1|Neurofibromatosis-Noonan_syndrome|CafÃ©-au-lait_macules_with_pulmonary_stenosis\n",
      "\tCLNDBN error with CafÃ©-au-lait_macules_with_pulmonary_stenosis|Neurofibromatosis\\x2c_type_1|Neurofibromatosis\\x2c_familial_spinal|Neurofibromatosis-Noonan_syndrome\n",
      "\tCLNDBN error with Hereditary_cancer-predisposing_syndrome|not_specified|Neurofibromatosis\\x2c_type_1|CafÃ©-au-lait_macules_with_pulmonary_stenosis|Neurofibromatosis\\x2c_familial_spinal|Neurofibromatosis-Noonan_syndrome\n",
      "\tCLNDBN error with Neurofibromatosis\\x2c_familial_spinal|Neurofibromatosis\\x2c_type_1|CafÃ©-au-lait_macules_with_pulmonary_stenosis|Neurofibromatosis-Noonan_syndrome\n",
      "\tCLNDBN error with Neurofibromatosis\\x2c_type_1|Neurofibromatosis-Noonan_syndrome|CafÃ©-au-lait_macules_with_pulmonary_stenosis|Neurofibromatosis\\x2c_familial_spinal\n",
      "\tCLNDBN error with CafÃ©-au-lait_macules_with_pulmonary_stenosis|Neurofibromatosis\\x2c_type_1|Neurofibromatosis-Noonan_syndrome|Neurofibromatosis\\x2c_familial_spinal\n",
      "\tCLNDBN error with Neurofibromatosis-Noonan_syndrome|CafÃ©-au-lait_macules_with_pulmonary_stenosis|Neurofibromatosis\\x2c_type_1|Neurofibromatosis\\x2c_familial_spinal\n",
      "\t\tMaking chromosome_18_variants table ...\n",
      "\t@ 2000001 ...\n",
      "\t\tMaking chromosome_19_variants table ...\n",
      "\t\tMaking chromosome_2_variants table ...\n",
      "\t\tMaking chromosome_20_variants table ...\n"
     ]
    }
   ],
   "source": [
    "VARIANT_FILE_PATH = '/home/k/Jumis/guardiome/data/customers/738/variants/738.concat_snp_indel.extract_chr.recode.ann_snpeff.ann_clinvar.rename_chr.vcf.gz'\n",
    "variant_hdf5 = VariantHDF5(VARIANT_FILE_PATH, reset=True)\n",
    "# variant_hdf5 = VariantHDF5(VARIANT_FILE_PATH)"
   ]
  },
  {
   "cell_type": "code",
   "execution_count": null,
   "metadata": {
    "scrolled": false
   },
   "outputs": [],
   "source": [
    "variant_hdf5.get_variants_by_id('rs662799')"
   ]
  },
  {
   "cell_type": "code",
   "execution_count": null,
   "metadata": {
    "scrolled": false
   },
   "outputs": [],
   "source": [
    "variant_hdf5.get_variants_by_gene('TP53')"
   ]
  },
  {
   "cell_type": "code",
   "execution_count": null,
   "metadata": {
    "scrolled": true
   },
   "outputs": [],
   "source": [
    "variant_hdf5.get_variants_by_region(11, 116792991, 116792991)"
   ]
  }
 ],
 "metadata": {
  "kernelspec": {
   "display_name": "Python 3",
   "language": "python",
   "name": "python3"
  },
  "language_info": {
   "codemirror_mode": {
    "name": "ipython",
    "version": 3
   },
   "file_extension": ".py",
   "mimetype": "text/x-python",
   "name": "python",
   "nbconvert_exporter": "python",
   "pygments_lexer": "ipython3",
   "version": "3.6.1"
  }
 },
 "nbformat": 4,
 "nbformat_minor": 2
}
