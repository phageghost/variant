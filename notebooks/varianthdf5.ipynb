{
 "cells": [
  {
   "cell_type": "code",
   "execution_count": 1,
   "metadata": {
    "collapsed": true
   },
   "outputs": [],
   "source": [
    "import sys\n",
    "sys.path.insert(0, '../')\n",
    "from variant.varianthdf5 import VariantHDF5\n",
    "\n",
    "%load_ext autoreload\n",
    "%autoreload 2"
   ]
  },
  {
   "cell_type": "code",
   "execution_count": 2,
   "metadata": {
    "scrolled": false
   },
   "outputs": [
    {
     "name": "stdout",
     "output_type": "stream",
     "text": [
      "Reading variant HDF5 ...\n",
      "Reading ID-to-chromosome dict ...\n",
      "Reading gene-to-chromosome dict ...\n"
     ]
    }
   ],
   "source": [
    "VARIANT_FILE_PATH = '/home/k/Jumis/guardiome/genome-data/customers/738/variant/738.concat_snp_indel.extract_chr.recode.ann_snpeff.ann_clinvar.rename_chr.vcf.gz'\n",
    "variant_hdf5 = VariantHDF5(VARIANT_FILE_PATH)#reset=True)"
   ]
  },
  {
   "cell_type": "code",
   "execution_count": 3,
   "metadata": {},
   "outputs": [
    {
     "name": "stdout",
     "output_type": "stream",
     "text": [
      "Reading chromosome_11_variants where: ID == b'rs662799' ...\n"
     ]
    },
    {
     "data": {
      "text/plain": [
       "[{'ALT': 'A',\n",
       "  'CHROM': '11',\n",
       "  'CLNSIG': 0,\n",
       "  'GT': '1|1',\n",
       "  'ID': 'rs662799',\n",
       "  'QUAL': 1181.77,\n",
       "  'REF': 'G',\n",
       "  'clinvar': '',\n",
       "  'effect': 'upstream_gene_variant',\n",
       "  'end': 116792991,\n",
       "  'gene_name': 'ZPR1',\n",
       "  'impact': 'MODIFIER',\n",
       "  'start': 116792991,\n",
       "  'variant_type': 'SNP'}]"
      ]
     },
     "execution_count": 3,
     "metadata": {},
     "output_type": "execute_result"
    }
   ],
   "source": [
    "variant_hdf5.get_variants_by_id('rs662799')"
   ]
  },
  {
   "cell_type": "code",
   "execution_count": 4,
   "metadata": {},
   "outputs": [
    {
     "name": "stdout",
     "output_type": "stream",
     "text": [
      "Reading chromosome_11_variants where: gene_name == b'ZPR1' ...\n"
     ]
    },
    {
     "data": {
      "text/plain": [
       "[{'ALT': 'G',\n",
       "  'CHROM': '11',\n",
       "  'CLNSIG': 0,\n",
       "  'GT': '1|1',\n",
       "  'ID': 'rs2041967',\n",
       "  'QUAL': 1211.77,\n",
       "  'REF': 'A',\n",
       "  'clinvar': '',\n",
       "  'effect': '3_prime_UTR_variant',\n",
       "  'end': 116774433,\n",
       "  'gene_name': 'ZPR1',\n",
       "  'impact': 'MODIFIER',\n",
       "  'start': 116774433,\n",
       "  'variant_type': 'SNP'},\n",
       " {'ALT': 'A',\n",
       "  'CHROM': '11',\n",
       "  'CLNSIG': 0,\n",
       "  'GT': '1|1',\n",
       "  'ID': 'rs45443305',\n",
       "  'QUAL': 1316.77,\n",
       "  'REF': 'C',\n",
       "  'clinvar': '',\n",
       "  'effect': '3_prime_UTR_variant',\n",
       "  'end': 116774966,\n",
       "  'gene_name': 'ZPR1',\n",
       "  'impact': 'MODIFIER',\n",
       "  'start': 116774966,\n",
       "  'variant_type': 'SNP'},\n",
       " {'ALT': 'C',\n",
       "  'CHROM': '11',\n",
       "  'CLNSIG': 0,\n",
       "  'GT': '1|1',\n",
       "  'ID': '.',\n",
       "  'QUAL': 1643.73,\n",
       "  'REF': 'CAAAAAAA',\n",
       "  'clinvar': '',\n",
       "  'effect': '3_prime_UTR_variant',\n",
       "  'end': 116775463,\n",
       "  'gene_name': 'ZPR1',\n",
       "  'impact': 'MODIFIER',\n",
       "  'start': 116775457,\n",
       "  'variant_type': 'DEL'},\n",
       " {'ALT': 'C',\n",
       "  'CHROM': '11',\n",
       "  'CLNSIG': 0,\n",
       "  'GT': '1|1',\n",
       "  'ID': '.',\n",
       "  'QUAL': 417.73001,\n",
       "  'REF': 'CAAAAAAAAAAAAAA',\n",
       "  'clinvar': '',\n",
       "  'effect': '3_prime_UTR_variant',\n",
       "  'end': 116775641,\n",
       "  'gene_name': 'ZPR1',\n",
       "  'impact': 'MODIFIER',\n",
       "  'start': 116775628,\n",
       "  'variant_type': 'DEL'},\n",
       " {'ALT': 'T',\n",
       "  'CHROM': '11',\n",
       "  'CLNSIG': 0,\n",
       "  'GT': '1|1',\n",
       "  'ID': 'rs2160669',\n",
       "  'QUAL': 1472.77,\n",
       "  'REF': 'C',\n",
       "  'clinvar': '',\n",
       "  'effect': '3_prime_UTR_variant',\n",
       "  'end': 116776891,\n",
       "  'gene_name': 'ZPR1',\n",
       "  'impact': 'MODIFIER',\n",
       "  'start': 116776891,\n",
       "  'variant_type': 'SNP'},\n",
       " {'ALT': 'C',\n",
       "  'CHROM': '11',\n",
       "  'CLNSIG': 0,\n",
       "  'GT': '1|1',\n",
       "  'ID': '.',\n",
       "  'QUAL': 748.72998,\n",
       "  'REF': 'CAA',\n",
       "  'clinvar': '',\n",
       "  'effect': '3_prime_UTR_variant',\n",
       "  'end': 116777665,\n",
       "  'gene_name': 'ZPR1',\n",
       "  'impact': 'MODIFIER',\n",
       "  'start': 116777664,\n",
       "  'variant_type': 'DEL'},\n",
       " {'ALT': 'C',\n",
       "  'CHROM': '11',\n",
       "  'CLNSIG': 0,\n",
       "  'GT': '1|1',\n",
       "  'ID': 'rs964184',\n",
       "  'QUAL': 1119.77,\n",
       "  'REF': 'G',\n",
       "  'clinvar': '',\n",
       "  'effect': '3_prime_UTR_variant',\n",
       "  'end': 116778201,\n",
       "  'gene_name': 'ZPR1',\n",
       "  'impact': 'MODIFIER',\n",
       "  'start': 116778201,\n",
       "  'variant_type': 'SNP'},\n",
       " {'ALT': 'G',\n",
       "  'CHROM': '11',\n",
       "  'CLNSIG': 0,\n",
       "  'GT': '1|1',\n",
       "  'ID': 'rs139753514',\n",
       "  'QUAL': 611.72998,\n",
       "  'REF': 'GA',\n",
       "  'clinvar': '',\n",
       "  'effect': 'downstream_gene_variant',\n",
       "  'end': 116781214,\n",
       "  'gene_name': 'ZPR1',\n",
       "  'impact': 'MODIFIER',\n",
       "  'start': 116781214,\n",
       "  'variant_type': 'DEL'},\n",
       " {'ALT': 'A',\n",
       "  'CHROM': '11',\n",
       "  'CLNSIG': 0,\n",
       "  'GT': '1|1',\n",
       "  'ID': 'rs6589566',\n",
       "  'QUAL': 1376.77,\n",
       "  'REF': 'G',\n",
       "  'clinvar': '',\n",
       "  'effect': 'downstream_gene_variant',\n",
       "  'end': 116781707,\n",
       "  'gene_name': 'ZPR1',\n",
       "  'impact': 'MODIFIER',\n",
       "  'start': 116781707,\n",
       "  'variant_type': 'SNP'},\n",
       " {'ALT': 'G',\n",
       "  'CHROM': '11',\n",
       "  'CLNSIG': 0,\n",
       "  'GT': '1|1',\n",
       "  'ID': 'rs7483863',\n",
       "  'QUAL': 1269.77,\n",
       "  'REF': 'A',\n",
       "  'clinvar': '',\n",
       "  'effect': 'downstream_gene_variant',\n",
       "  'end': 116781775,\n",
       "  'gene_name': 'ZPR1',\n",
       "  'impact': 'MODIFIER',\n",
       "  'start': 116781775,\n",
       "  'variant_type': 'SNP'},\n",
       " {'ALT': 'T',\n",
       "  'CHROM': '11',\n",
       "  'CLNSIG': 0,\n",
       "  'GT': '1|1',\n",
       "  'ID': 'rs2075290',\n",
       "  'QUAL': 900.77002,\n",
       "  'REF': 'C',\n",
       "  'clinvar': '',\n",
       "  'effect': 'downstream_gene_variant',\n",
       "  'end': 116782580,\n",
       "  'gene_name': 'ZPR1',\n",
       "  'impact': 'MODIFIER',\n",
       "  'start': 116782580,\n",
       "  'variant_type': 'SNP'},\n",
       " {'ALT': 'T',\n",
       "  'CHROM': '11',\n",
       "  'CLNSIG': 0,\n",
       "  'GT': '1|1',\n",
       "  'ID': '.',\n",
       "  'QUAL': 521.72998,\n",
       "  'REF': 'TA',\n",
       "  'clinvar': '',\n",
       "  'effect': 'downstream_gene_variant',\n",
       "  'end': 116783861,\n",
       "  'gene_name': 'ZPR1',\n",
       "  'impact': 'MODIFIER',\n",
       "  'start': 116783861,\n",
       "  'variant_type': 'DEL'},\n",
       " {'ALT': 'A',\n",
       "  'CHROM': '11',\n",
       "  'CLNSIG': 0,\n",
       "  'GT': '1|1',\n",
       "  'ID': 'rs74662600',\n",
       "  'QUAL': 842.77002,\n",
       "  'REF': 'G',\n",
       "  'clinvar': '',\n",
       "  'effect': 'downstream_gene_variant',\n",
       "  'end': 116784243,\n",
       "  'gene_name': 'ZPR1',\n",
       "  'impact': 'MODIFIER',\n",
       "  'start': 116784243,\n",
       "  'variant_type': 'SNP'},\n",
       " {'ALT': 'A',\n",
       "  'CHROM': '11',\n",
       "  'CLNSIG': 0,\n",
       "  'GT': '1|1',\n",
       "  'ID': 'rs10750096',\n",
       "  'QUAL': 1075.77,\n",
       "  'REF': 'C',\n",
       "  'clinvar': '',\n",
       "  'effect': 'upstream_gene_variant',\n",
       "  'end': 116786072,\n",
       "  'gene_name': 'ZPR1',\n",
       "  'impact': 'MODIFIER',\n",
       "  'start': 116786072,\n",
       "  'variant_type': 'SNP'},\n",
       " {'ALT': 'T',\n",
       "  'CHROM': '11',\n",
       "  'CLNSIG': 0,\n",
       "  'GT': '1|1',\n",
       "  'ID': 'rs2075294',\n",
       "  'QUAL': 836.77002,\n",
       "  'REF': 'G',\n",
       "  'clinvar': '',\n",
       "  'effect': 'upstream_gene_variant',\n",
       "  'end': 116787406,\n",
       "  'gene_name': 'ZPR1',\n",
       "  'impact': 'MODIFIER',\n",
       "  'start': 116787406,\n",
       "  'variant_type': 'SNP'},\n",
       " {'ALT': 'A',\n",
       "  'CHROM': '11',\n",
       "  'CLNSIG': 0,\n",
       "  'GT': '1|1',\n",
       "  'ID': 'rs662799',\n",
       "  'QUAL': 1181.77,\n",
       "  'REF': 'G',\n",
       "  'clinvar': '',\n",
       "  'effect': 'upstream_gene_variant',\n",
       "  'end': 116792991,\n",
       "  'gene_name': 'ZPR1',\n",
       "  'impact': 'MODIFIER',\n",
       "  'start': 116792991,\n",
       "  'variant_type': 'SNP'}]"
      ]
     },
     "execution_count": 4,
     "metadata": {},
     "output_type": "execute_result"
    }
   ],
   "source": [
    "variant_hdf5.get_variants_by_gene('ZPR1')"
   ]
  },
  {
   "cell_type": "code",
   "execution_count": 5,
   "metadata": {
    "scrolled": false
   },
   "outputs": [
    {
     "name": "stdout",
     "output_type": "stream",
     "text": [
      "Reading chromosome_11_variants where: (116792991 <= start) & (start <= 116792991) ...\n"
     ]
    },
    {
     "data": {
      "text/plain": [
       "[{'ALT': 'A',\n",
       "  'CHROM': '11',\n",
       "  'CLNSIG': 0,\n",
       "  'GT': '1|1',\n",
       "  'ID': 'rs662799',\n",
       "  'QUAL': 1181.77,\n",
       "  'REF': 'G',\n",
       "  'clinvar': '',\n",
       "  'effect': 'upstream_gene_variant',\n",
       "  'end': 116792991,\n",
       "  'gene_name': 'ZPR1',\n",
       "  'impact': 'MODIFIER',\n",
       "  'start': 116792991,\n",
       "  'variant_type': 'SNP'}]"
      ]
     },
     "execution_count": 5,
     "metadata": {},
     "output_type": "execute_result"
    }
   ],
   "source": [
    "variant_hdf5.get_variants_by_region(11, 116792991, 116792991)"
   ]
  }
 ],
 "metadata": {
  "kernelspec": {
   "display_name": "Python 3",
   "language": "python",
   "name": "python3"
  },
  "language_info": {
   "codemirror_mode": {
    "name": "ipython",
    "version": 3
   },
   "file_extension": ".py",
   "mimetype": "text/x-python",
   "name": "python",
   "nbconvert_exporter": "python",
   "pygments_lexer": "ipython3",
   "version": "3.6.1"
  }
 },
 "nbformat": 4,
 "nbformat_minor": 2
}
