{
 "cells": [
  {
   "cell_type": "code",
   "execution_count": null,
   "metadata": {},
   "outputs": [],
   "source": [
    "import sys\n",
    "sys.path.insert(0, '../')\n",
    "from variant.varianthdf5 import VariantHDF5\n",
    "\n",
    "%load_ext autoreload\n",
    "%autoreload 2"
   ]
  },
  {
   "cell_type": "code",
   "execution_count": null,
   "metadata": {
    "scrolled": true
   },
   "outputs": [
    {
     "name": "stdout",
     "output_type": "stream",
     "text": [
      "Resetting ...\n",
      "Getting data-start position ...\n",
      "Counting variants per chromosome ...\n",
      "\t@ 1 ...\n",
      "\t@ 10 ...\n",
      "\t@ 11 ...\n",
      "\t@ 12 ...\n",
      "\t@ 13 ...\n",
      "\t@ 14 ...\n",
      "\t@ 15 ...\n",
      "\t@ 16 ...\n",
      "\t@ 17 ...\n",
      "\t@ 18 ...\n",
      "\t@ 19 ...\n",
      "\t@ 2 ...\n"
     ]
    }
   ],
   "source": [
    "VARIANT_FILE_PATH = '/home/k/Jumis/guardiome/data/customers/738/variants/738.concat_snp_indel.extract_chr.recode.ann_snpeff.ann_clinvar.rename_chr.vcf.gz'\n",
    "variant_hdf5 = VariantHDF5(VARIANT_FILE_PATH, reset=True)\n",
    "# variant_hdf5 = VariantHDF5(VARIANT_FILE_PATH)"
   ]
  },
  {
   "cell_type": "code",
   "execution_count": null,
   "metadata": {
    "scrolled": false
   },
   "outputs": [],
   "source": [
    "variant_hdf5.get_variants_by_id('rs662799')"
   ]
  },
  {
   "cell_type": "code",
   "execution_count": null,
   "metadata": {
    "scrolled": false
   },
   "outputs": [],
   "source": [
    "variant_hdf5.get_variants_by_gene('TP53')"
   ]
  },
  {
   "cell_type": "code",
   "execution_count": null,
   "metadata": {
    "scrolled": true
   },
   "outputs": [],
   "source": [
    "variant_hdf5.get_variants_by_region(11, 116792991, 116792991)"
   ]
  }
 ],
 "metadata": {
  "kernelspec": {
   "display_name": "Python 3",
   "language": "python",
   "name": "python3"
  },
  "language_info": {
   "codemirror_mode": {
    "name": "ipython",
    "version": 3
   },
   "file_extension": ".py",
   "mimetype": "text/x-python",
   "name": "python",
   "nbconvert_exporter": "python",
   "pygments_lexer": "ipython3",
   "version": "3.6.1"
  }
 },
 "nbformat": 4,
 "nbformat_minor": 2
}
