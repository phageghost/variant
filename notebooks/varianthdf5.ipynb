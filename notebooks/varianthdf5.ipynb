{
 "cells": [
  {
   "cell_type": "code",
   "execution_count": 1,
   "metadata": {},
   "outputs": [],
   "source": [
    "import sys\n",
    "sys.path.insert(0, '../')\n",
    "from variant.varianthdf5 import VariantHDF5\n",
    "\n",
    "%load_ext autoreload\n",
    "%autoreload 2"
   ]
  },
  {
   "cell_type": "code",
   "execution_count": null,
   "metadata": {
    "scrolled": false
   },
   "outputs": [
    {
     "name": "stdout",
     "output_type": "stream",
     "text": [
      "Resetting ...\n",
      "Making variant HDF5 ...\n",
      "Getting data-start position ...\n",
      "Counting variants in chromosomes ...\n",
      "\t@ 1 ...\n",
      "\t@ 10 ...\n",
      "\t@ 11 ...\n",
      "\t@ 12 ...\n",
      "\t@ 13 ...\n",
      "\t@ 14 ...\n",
      "\t@ 15 ...\n",
      "\t@ 16 ...\n",
      "\t@ 17 ...\n",
      "\t@ 18 ...\n",
      "\t@ 19 ...\n",
      "\t@ 2 ...\n",
      "\t@ 20 ...\n",
      "\t@ 21 ...\n",
      "\t@ 22 ...\n",
      "\t@ 3 ...\n",
      "\t@ 4 ...\n",
      "\t@ 5 ...\n",
      "\t@ 6 ...\n",
      "\t@ 7 ...\n",
      "\t@ 8 ...\n",
      "\t@ 9 ...\n",
      "\t@ MT ...\n",
      "\t@ X ...\n",
      "\t@ Y ...\n",
      "defaultdict(<function VariantHDF5._make_variant_hdf5.<locals>.<lambda> at 0x7f51525b9d90>,\n",
      "            {'1': 372124,\n",
      "             '10': 249020,\n",
      "             '11': 240544,\n",
      "             '12': 231845,\n",
      "             '13': 179803,\n",
      "             '14': 152565,\n",
      "             '15': 146512,\n",
      "             '16': 159467,\n",
      "             '17': 150092,\n",
      "             '18': 138271,\n",
      "             '19': 109788,\n",
      "             '2': 401037,\n",
      "             '20': 144307,\n",
      "             '21': 104367,\n",
      "             '22': 107316,\n",
      "             '3': 336097,\n",
      "             '4': 355664,\n",
      "             '5': 285518,\n",
      "             '6': 296731,\n",
      "             '7': 289264,\n",
      "             '8': 243301,\n",
      "             '9': 236641,\n",
      "             'MT': 30,\n",
      "             'X': 106614,\n",
      "             'Y': 23120})\n",
      "Making variant HDF5 ...\n",
      "\t@ 1 ...\n",
      "\t\tMade chromosome_1_variants table.\n",
      "\t\tMade chromosome_10_variants table.\n",
      "\t\tMade chromosome_11_variants table.\n",
      "\t\tMade chromosome_12_variants table.\n",
      "\t@ 1000001 ...\n",
      "\t\tMade chromosome_13_variants table.\n",
      "\t\tMade chromosome_14_variants table.\n",
      "\t\tMade chromosome_15_variants table.\n",
      "\t\tMade chromosome_16_variants table.\n",
      "\t\tMade chromosome_17_variants table.\n",
      "\t\tMade chromosome_18_variants table.\n",
      "\t@ 2000001 ...\n",
      "\t\tMade chromosome_19_variants table.\n",
      "\t\tMade chromosome_2_variants table.\n",
      "\t\tMade chromosome_20_variants table.\n",
      "\t\tMade chromosome_21_variants table.\n",
      "\t\tMade chromosome_22_variants table.\n",
      "\t\tMade chromosome_3_variants table.\n",
      "\t@ 3000001 ...\n",
      "\t\tMade chromosome_4_variants table.\n",
      "\t\tMade chromosome_5_variants table.\n"
     ]
    }
   ],
   "source": [
    "VARIANT_FILE_PATH = '/home/k/Jumis/guardiome/data/customers/738/variants/738.concat_snp_indel.extract_chr.recode.ann_snpeff.ann_clinvar.rename_chr.vcf.gz'\n",
    "variant_hdf5 = VariantHDF5(VARIANT_FILE_PATH, reset=True)"
   ]
  },
  {
   "cell_type": "code",
   "execution_count": 3,
   "metadata": {},
   "outputs": [
    {
     "name": "stdout",
     "output_type": "stream",
     "text": [
      "Reading chromosome_11_variants where: ID == b'rs662799' ...\n"
     ]
    },
    {
     "ename": "ValueError",
     "evalue": "invalid literal for int() with base 10: ''",
     "output_type": "error",
     "traceback": [
      "\u001b[0;31m---------------------------------------------------------------------------\u001b[0m",
      "\u001b[0;31mValueError\u001b[0m                                Traceback (most recent call last)",
      "\u001b[0;32m<ipython-input-3-0bf5ae02b8b6>\u001b[0m in \u001b[0;36m<module>\u001b[0;34m()\u001b[0m\n\u001b[0;32m----> 1\u001b[0;31m \u001b[0mvariant_hdf5\u001b[0m\u001b[0;34m.\u001b[0m\u001b[0mget_variants_by_id\u001b[0m\u001b[0;34m(\u001b[0m\u001b[0;34m'rs662799'\u001b[0m\u001b[0;34m)\u001b[0m\u001b[0;34m\u001b[0m\u001b[0m\n\u001b[0m",
      "\u001b[0;32m/home/k/Jumis/tools/repositories/variant/variant/varianthdf5.py\u001b[0m in \u001b[0;36mget_variants_by_id\u001b[0;34m(self, id_)\u001b[0m\n\u001b[1;32m    291\u001b[0m             \u001b[0;32mfor\u001b[0m \u001b[0md\u001b[0m \u001b[0;32min\u001b[0m \u001b[0mvariant_dicts\u001b[0m\u001b[0;34m:\u001b[0m\u001b[0;34m\u001b[0m\u001b[0m\n\u001b[1;32m    292\u001b[0m                 \u001b[0mself\u001b[0m\u001b[0;34m.\u001b[0m\u001b[0m_make_variant_dict_consistent\u001b[0m\u001b[0;34m(\u001b[0m\u001b[0md\u001b[0m\u001b[0;34m)\u001b[0m\u001b[0;34m\u001b[0m\u001b[0m\n\u001b[0;32m--> 293\u001b[0;31m                 \u001b[0mupdate_vcf_variant_dict\u001b[0m\u001b[0;34m(\u001b[0m\u001b[0md\u001b[0m\u001b[0;34m)\u001b[0m\u001b[0;34m\u001b[0m\u001b[0m\n\u001b[0m\u001b[1;32m    294\u001b[0m \u001b[0;34m\u001b[0m\u001b[0m\n\u001b[1;32m    295\u001b[0m             \u001b[0;32mreturn\u001b[0m \u001b[0mvariant_dicts\u001b[0m\u001b[0;34m\u001b[0m\u001b[0m\n",
      "\u001b[0;32m/home/k/Jumis/tools/repositories/variant/variant/variant.py\u001b[0m in \u001b[0;36mupdate_vcf_variant_dict\u001b[0;34m(variant_dict)\u001b[0m\n\u001b[1;32m    212\u001b[0m \u001b[0;34m\u001b[0m\u001b[0m\n\u001b[1;32m    213\u001b[0m     \u001b[0;32mif\u001b[0m \u001b[0;34m'CLNSIG'\u001b[0m \u001b[0;32min\u001b[0m \u001b[0mvariant_dict\u001b[0m\u001b[0;34m:\u001b[0m\u001b[0;34m\u001b[0m\u001b[0m\n\u001b[0;32m--> 214\u001b[0;31m         \u001b[0mvariant_dict\u001b[0m\u001b[0;34m[\u001b[0m\u001b[0;34m'clinvar'\u001b[0m\u001b[0;34m]\u001b[0m \u001b[0;34m=\u001b[0m \u001b[0mdescribe_clnsig\u001b[0m\u001b[0;34m(\u001b[0m\u001b[0mvariant_dict\u001b[0m\u001b[0;34m[\u001b[0m\u001b[0;34m'CLNSIG'\u001b[0m\u001b[0;34m]\u001b[0m\u001b[0;34m)\u001b[0m\u001b[0;34m\u001b[0m\u001b[0m\n\u001b[0m\u001b[1;32m    215\u001b[0m \u001b[0;34m\u001b[0m\u001b[0m\n\u001b[1;32m    216\u001b[0m     \u001b[0;32mfor\u001b[0m \u001b[0mi\u001b[0m\u001b[0;34m,\u001b[0m \u001b[0md\u001b[0m \u001b[0;32min\u001b[0m \u001b[0mvariant_dict\u001b[0m\u001b[0;34m[\u001b[0m\u001b[0;34m'ANN'\u001b[0m\u001b[0;34m]\u001b[0m\u001b[0;34m.\u001b[0m\u001b[0mitems\u001b[0m\u001b[0;34m(\u001b[0m\u001b[0;34m)\u001b[0m\u001b[0;34m:\u001b[0m\u001b[0;34m\u001b[0m\u001b[0m\n",
      "\u001b[0;32m/home/k/Jumis/tools/repositories/variant/variant/variant.py\u001b[0m in \u001b[0;36mdescribe_clnsig\u001b[0;34m(clnsig, clnsig_descriptions)\u001b[0m\n\u001b[1;32m    369\u001b[0m     \"\"\"\n\u001b[1;32m    370\u001b[0m \u001b[0;34m\u001b[0m\u001b[0m\n\u001b[0;32m--> 371\u001b[0;31m     \u001b[0;32mreturn\u001b[0m \u001b[0;34m'|'\u001b[0m\u001b[0;34m.\u001b[0m\u001b[0mjoin\u001b[0m\u001b[0;34m(\u001b[0m\u001b[0;34m[\u001b[0m\u001b[0mclnsig_descriptions\u001b[0m\u001b[0;34m[\u001b[0m\u001b[0mint\u001b[0m\u001b[0;34m(\u001b[0m\u001b[0mc\u001b[0m\u001b[0;34m)\u001b[0m\u001b[0;34m]\u001b[0m \u001b[0;32mfor\u001b[0m \u001b[0mc\u001b[0m \u001b[0;32min\u001b[0m \u001b[0mclnsig\u001b[0m\u001b[0;34m.\u001b[0m\u001b[0msplit\u001b[0m\u001b[0;34m(\u001b[0m\u001b[0;34m'|'\u001b[0m\u001b[0;34m)\u001b[0m\u001b[0;34m]\u001b[0m\u001b[0;34m)\u001b[0m\u001b[0;34m\u001b[0m\u001b[0m\n\u001b[0m\u001b[1;32m    372\u001b[0m \u001b[0;34m\u001b[0m\u001b[0m\n\u001b[1;32m    373\u001b[0m \u001b[0;34m\u001b[0m\u001b[0m\n",
      "\u001b[0;32m/home/k/Jumis/tools/repositories/variant/variant/variant.py\u001b[0m in \u001b[0;36m<listcomp>\u001b[0;34m(.0)\u001b[0m\n\u001b[1;32m    369\u001b[0m     \"\"\"\n\u001b[1;32m    370\u001b[0m \u001b[0;34m\u001b[0m\u001b[0m\n\u001b[0;32m--> 371\u001b[0;31m     \u001b[0;32mreturn\u001b[0m \u001b[0;34m'|'\u001b[0m\u001b[0;34m.\u001b[0m\u001b[0mjoin\u001b[0m\u001b[0;34m(\u001b[0m\u001b[0;34m[\u001b[0m\u001b[0mclnsig_descriptions\u001b[0m\u001b[0;34m[\u001b[0m\u001b[0mint\u001b[0m\u001b[0;34m(\u001b[0m\u001b[0mc\u001b[0m\u001b[0;34m)\u001b[0m\u001b[0;34m]\u001b[0m \u001b[0;32mfor\u001b[0m \u001b[0mc\u001b[0m \u001b[0;32min\u001b[0m \u001b[0mclnsig\u001b[0m\u001b[0;34m.\u001b[0m\u001b[0msplit\u001b[0m\u001b[0;34m(\u001b[0m\u001b[0;34m'|'\u001b[0m\u001b[0;34m)\u001b[0m\u001b[0;34m]\u001b[0m\u001b[0;34m)\u001b[0m\u001b[0;34m\u001b[0m\u001b[0m\n\u001b[0m\u001b[1;32m    372\u001b[0m \u001b[0;34m\u001b[0m\u001b[0m\n\u001b[1;32m    373\u001b[0m \u001b[0;34m\u001b[0m\u001b[0m\n",
      "\u001b[0;31mValueError\u001b[0m: invalid literal for int() with base 10: ''"
     ]
    }
   ],
   "source": [
    "variant_hdf5.get_variants_by_id('rs662799')"
   ]
  },
  {
   "cell_type": "code",
   "execution_count": null,
   "metadata": {
    "scrolled": true
   },
   "outputs": [],
   "source": [
    "variant_hdf5.get_variants_by_gene('TP53')"
   ]
  },
  {
   "cell_type": "code",
   "execution_count": null,
   "metadata": {
    "scrolled": true
   },
   "outputs": [],
   "source": [
    "variant_hdf5.get_variants_by_region(11, 116792991, 116792991)"
   ]
  },
  {
   "cell_type": "code",
   "execution_count": null,
   "metadata": {
    "collapsed": true
   },
   "outputs": [],
   "source": []
  }
 ],
 "metadata": {
  "kernelspec": {
   "display_name": "Python 3",
   "language": "python",
   "name": "python3"
  },
  "language_info": {
   "codemirror_mode": {
    "name": "ipython",
    "version": 3
   },
   "file_extension": ".py",
   "mimetype": "text/x-python",
   "name": "python",
   "nbconvert_exporter": "python",
   "pygments_lexer": "ipython3",
   "version": "3.6.1"
  }
 },
 "nbformat": 4,
 "nbformat_minor": 2
}
