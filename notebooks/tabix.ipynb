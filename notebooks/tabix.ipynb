{
 "cells": [
  {
   "cell_type": "code",
   "execution_count": 1,
   "metadata": {},
   "outputs": [],
   "source": [
    "import sys\n",
    "sys.path.insert(0, '../')\n",
    "from variant.tabix import get_variants_by_tabix\n",
    "\n",
    "%load_ext autoreload\n",
    "%autoreload 2"
   ]
  },
  {
   "cell_type": "code",
   "execution_count": 2,
   "metadata": {
    "scrolled": true
   },
   "outputs": [],
   "source": [
    "VARIANT_FILE_PATH = '/home/k/Jumis/guardiome/data/customers/738/variants/738.concat_snp_indel.extract_chr.recode.ann_snpeff.ann_clinvar.rename_chr.vcf.gz'"
   ]
  },
  {
   "cell_type": "code",
   "execution_count": 3,
   "metadata": {
    "scrolled": false
   },
   "outputs": [
    {
     "data": {
      "text/plain": [
       "[{'AC': '2',\n",
       "  'AF': '1',\n",
       "  'ALT': 'A',\n",
       "  'AN': '2',\n",
       "  'ANN': {0: {'cdna_position': '',\n",
       "    'cds_position': '',\n",
       "    'distance_to_feature': '4941',\n",
       "    'effect': 'upstream_gene_variant',\n",
       "    'error': '',\n",
       "    'feature_id': 'ENST00000227322.7',\n",
       "    'feature_type': 'transcript',\n",
       "    'gene_id': 'ENSG00000109917',\n",
       "    'gene_name': 'ZPR1',\n",
       "    'hgvsc': 'c.-5001C>T',\n",
       "    'hgvsp': '',\n",
       "    'impact': 'MODIFIER',\n",
       "    'protein_position': '',\n",
       "    'rank': '',\n",
       "    'transcript_biotype': 'protein_coding',\n",
       "    'variant_classification': \"5'Flank\"},\n",
       "   1: {'cdna_position': '',\n",
       "    'cds_position': '',\n",
       "    'distance_to_feature': '1096',\n",
       "    'effect': 'upstream_gene_variant',\n",
       "    'error': '',\n",
       "    'feature_id': 'ENST00000227665.8',\n",
       "    'feature_type': 'transcript',\n",
       "    'gene_id': 'ENSG00000110243',\n",
       "    'gene_name': 'APOA5',\n",
       "    'hgvsc': 'c.-1131C>T',\n",
       "    'hgvsp': '',\n",
       "    'impact': 'MODIFIER',\n",
       "    'protein_position': '',\n",
       "    'rank': '',\n",
       "    'transcript_biotype': 'protein_coding',\n",
       "    'variant_classification': \"5'Flank\"},\n",
       "   2: {'cdna_position': '',\n",
       "    'cds_position': '',\n",
       "    'distance_to_feature': '580',\n",
       "    'effect': 'upstream_gene_variant',\n",
       "    'error': 'WARNING_TRANSCRIPT_NO_STOP_CODON',\n",
       "    'feature_id': 'ENST00000433069.1',\n",
       "    'feature_type': 'transcript',\n",
       "    'gene_id': 'ENSG00000110243',\n",
       "    'gene_name': 'APOA5',\n",
       "    'hgvsc': 'c.-1131C>T',\n",
       "    'hgvsp': '',\n",
       "    'impact': 'MODIFIER',\n",
       "    'protein_position': '',\n",
       "    'rank': '',\n",
       "    'transcript_biotype': 'protein_coding',\n",
       "    'variant_classification': \"5'Flank\"},\n",
       "   3: {'cdna_position': '',\n",
       "    'cds_position': '',\n",
       "    'distance_to_feature': '4952',\n",
       "    'effect': 'upstream_gene_variant',\n",
       "    'error': '',\n",
       "    'feature_id': 'ENST00000425791.1',\n",
       "    'feature_type': 'transcript',\n",
       "    'gene_id': 'ENSG00000109917',\n",
       "    'gene_name': 'ZPR1',\n",
       "    'hgvsc': 'c.-5001C>T',\n",
       "    'hgvsp': '',\n",
       "    'impact': 'MODIFIER',\n",
       "    'protein_position': '',\n",
       "    'rank': '',\n",
       "    'transcript_biotype': 'nonsense_mediated_decay',\n",
       "    'variant_classification': \"5'Flank\"},\n",
       "   4: {'cdna_position': '',\n",
       "    'cds_position': '',\n",
       "    'distance_to_feature': '571',\n",
       "    'effect': 'upstream_gene_variant',\n",
       "    'error': '',\n",
       "    'feature_id': 'ENST00000542499.5',\n",
       "    'feature_type': 'transcript',\n",
       "    'gene_id': 'ENSG00000110243',\n",
       "    'gene_name': 'APOA5',\n",
       "    'hgvsc': 'c.-1131C>T',\n",
       "    'hgvsp': '',\n",
       "    'impact': 'MODIFIER',\n",
       "    'protein_position': '',\n",
       "    'rank': '',\n",
       "    'transcript_biotype': 'protein_coding',\n",
       "    'variant_classification': \"5'Flank\"},\n",
       "   5: {'cdna_position': '',\n",
       "    'cds_position': '',\n",
       "    'distance_to_feature': '',\n",
       "    'effect': 'intergenic_region',\n",
       "    'error': '',\n",
       "    'feature_id': 'ENSG00000110243-ENSG00000236267',\n",
       "    'feature_type': 'intergenic_region',\n",
       "    'gene_id': 'ENSG00000110243-ENSG00000236267',\n",
       "    'gene_name': 'APOA5-AP006216.5',\n",
       "    'hgvsc': 'n.116792991G>A',\n",
       "    'hgvsp': '',\n",
       "    'impact': 'MODIFIER',\n",
       "    'protein_position': '',\n",
       "    'rank': '',\n",
       "    'transcript_biotype': '',\n",
       "    'variant_classification': 'IGR'}},\n",
       "  'CHROM': '11',\n",
       "  'DP': 36,\n",
       "  'FILTERINFO': 'PASS',\n",
       "  'FS': '0',\n",
       "  'ID': 'rs662799',\n",
       "  'MLEAC': '2',\n",
       "  'MLEAF': '1',\n",
       "  'MQ': '60',\n",
       "  'POS': 116792991,\n",
       "  'QD': '32.83',\n",
       "  'QUAL': 1181.77,\n",
       "  'REF': 'G',\n",
       "  'SOR': '0.927',\n",
       "  'VQSLOD': '7.52',\n",
       "  'confidence': 6.652731562017529e-119,\n",
       "  'culprit': 'FS',\n",
       "  'end': 116792991,\n",
       "  'sample': {0: {'AD': '0,36',\n",
       "    'DP': 36,\n",
       "    'GQ': '99',\n",
       "    'GT': '1|1',\n",
       "    'PL': '1210,108,0',\n",
       "    'allelic_frequency': '0.000|1.000',\n",
       "    'genotype': 'A|A'}},\n",
       "  'start': 116792991,\n",
       "  'variant_type': 'SNP'}]"
      ]
     },
     "execution_count": 3,
     "metadata": {},
     "output_type": "execute_result"
    }
   ],
   "source": [
    "get_variants_by_tabix(VARIANT_FILE_PATH, chrom='11', start=116792991, end=116792991)"
   ]
  },
  {
   "cell_type": "code",
   "execution_count": null,
   "metadata": {
    "collapsed": true
   },
   "outputs": [],
   "source": []
  }
 ],
 "metadata": {
  "kernelspec": {
   "display_name": "Python 3",
   "language": "python",
   "name": "python3"
  },
  "language_info": {
   "codemirror_mode": {
    "name": "ipython",
    "version": 3
   },
   "file_extension": ".py",
   "mimetype": "text/x-python",
   "name": "python",
   "nbconvert_exporter": "python",
   "pygments_lexer": "ipython3",
   "version": "3.6.1"
  }
 },
 "nbformat": 4,
 "nbformat_minor": 2
}
